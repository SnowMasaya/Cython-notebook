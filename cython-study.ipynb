{
 "cells": [
  {
   "cell_type": "markdown",
   "metadata": {},
   "source": [
    "# Cython"
   ]
  },
  {
   "cell_type": "markdown",
   "metadata": {},
   "source": [
    "## Loading the extension"
   ]
  },
  {
   "cell_type": "markdown",
   "metadata": {},
   "source": [
    "IPtyhon notebook import Cython code. This extension can be loaded using the `pyximport` as follows:"
   ]
  },
  {
   "cell_type": "code",
   "execution_count": 1,
   "metadata": {
    "collapsed": false,
    "scrolled": true
   },
   "outputs": [],
   "source": [
    "import pyximport\n",
    "pyximport.install(reload_support=True)\n",
    "import fib_cython"
   ]
  },
  {
   "cell_type": "markdown",
   "metadata": {},
   "source": [
    "## Using the Cython module"
   ]
  },
  {
   "cell_type": "markdown",
   "metadata": {},
   "source": [
    "foo is the already compiling module function. \n",
    "Using foo module as follows."
   ]
  },
  {
   "cell_type": "code",
   "execution_count": 2,
   "metadata": {
    "collapsed": false,
    "scrolled": true
   },
   "outputs": [
    {
     "data": {
      "text/plain": [
       "'/Users/ohgushimasaya/.pyxbld/lib.macosx-10.9-x86_64-3.4/fib_cython.so.reload1'"
      ]
     },
     "execution_count": 2,
     "metadata": {},
     "output_type": "execute_result"
    }
   ],
   "source": [
    "fib_cython.__file__"
   ]
  },
  {
   "cell_type": "code",
   "execution_count": 3,
   "metadata": {
    "collapsed": false
   },
   "outputs": [
    {
     "data": {
      "text/plain": [
       "1"
      ]
     },
     "execution_count": 3,
     "metadata": {},
     "output_type": "execute_result"
    }
   ],
   "source": [
    "fib_cython.fib(2)"
   ]
  },
  {
   "cell_type": "markdown",
   "metadata": {},
   "source": [
    "Writing a normal function as follows."
   ]
  },
  {
   "cell_type": "code",
   "execution_count": 4,
   "metadata": {
    "collapsed": true
   },
   "outputs": [],
   "source": [
    "def fib(n):\n",
    "    a, b = 0, 1\n",
    "    for i in range(n):\n",
    "        a, b = a + b, a\n",
    "    return a"
   ]
  },
  {
   "cell_type": "code",
   "execution_count": 5,
   "metadata": {
    "collapsed": false
   },
   "outputs": [
    {
     "data": {
      "text/plain": [
       "1"
      ]
     },
     "execution_count": 5,
     "metadata": {},
     "output_type": "execute_result"
    }
   ],
   "source": [
    "fib(2)"
   ]
  },
  {
   "cell_type": "code",
   "execution_count": 6,
   "metadata": {
    "collapsed": false,
    "scrolled": true
   },
   "outputs": [],
   "source": [
    "import integral_max"
   ]
  },
  {
   "cell_type": "code",
   "execution_count": 7,
   "metadata": {
    "collapsed": false
   },
   "outputs": [
    {
     "data": {
      "text/plain": [
       "['__builtins__',\n",
       " '__doc__',\n",
       " '__file__',\n",
       " '__loader__',\n",
       " '__name__',\n",
       " '__package__',\n",
       " '__spec__',\n",
       " '__test__',\n",
       " 'a_list',\n",
       " 'call_allow',\n",
       " 'generic_max']"
      ]
     },
     "execution_count": 7,
     "metadata": {},
     "output_type": "execute_result"
    }
   ],
   "source": [
    "dir(integral_max)"
   ]
  },
  {
   "cell_type": "code",
   "execution_count": 8,
   "metadata": {
    "collapsed": false
   },
   "outputs": [
    {
     "name": "stdout",
     "output_type": "stream",
     "text": [
      "array('d', [1.0, 2.0, 3.0])\n"
     ]
    },
    {
     "data": {
      "text/plain": [
       "2"
      ]
     },
     "execution_count": 8,
     "metadata": {},
     "output_type": "execute_result"
    }
   ],
   "source": [
    " integral_max.generic_max(1,2)"
   ]
  },
  {
   "cell_type": "markdown",
   "metadata": {
    "collapsed": true
   },
   "source": [
    "多体問題シミュレーションのコード\n",
    "\n",
    "元のコードは下記\n",
    "\n",
    "https://github.com/cythonbook/examples"
   ]
  },
  {
   "cell_type": "code",
   "execution_count": 11,
   "metadata": {
    "collapsed": false
   },
   "outputs": [
    {
     "name": "stdout",
     "output_type": "stream",
     "text": [
      "-0.169075164\n",
      "-0.169078071\n",
      "-0.169304707\n",
      "-0.169262077\n",
      "-0.169171170\n",
      "-0.169149750\n",
      "-0.169036638\n",
      "-0.169034805\n",
      "1 loops, best of 3: 909 ms per loop\n"
     ]
    }
   ],
   "source": [
    "import sys \n",
    "\n",
    "def combinations(l):\n",
    "    result = []\n",
    "    for x in range(len(l) - 1):\n",
    "        ls = l[x+1:]\n",
    "        for y in ls:\n",
    "            result.append((l[x],y))\n",
    "    return result\n",
    "\n",
    "PI = 3.14159265358979323\n",
    "SOLAR_MASS = 4 * PI * PI\n",
    "DAYS_PER_YEAR = 365.24\n",
    "\n",
    "BODIES = {\n",
    "        'sun': ([0.0, 0.0, 0.0], [0.0, 0.0, 0.0], SOLAR_MASS),\n",
    "\n",
    "        'jupiter': ([4.84143144246472090e+00,\n",
    "            -1.16032004402742839e+00,\n",
    "            -1.03622044471123109e-01],\n",
    "            [1.66007664274403694e-03 * DAYS_PER_YEAR,\n",
    "                7.69901118419740425e-03 * DAYS_PER_YEAR,\n",
    "                -6.90460016972063023e-05 * DAYS_PER_YEAR],\n",
    "            9.54791938424326609e-04 * SOLAR_MASS),\n",
    "\n",
    "        'saturn': ([8.34336671824457987e+00,\n",
    "            4.12479856412430479e+00,\n",
    "            -4.03523417114321381e-01],\n",
    "            [-2.76742510726862411e-03 * DAYS_PER_YEAR,\n",
    "                4.99852801234917238e-03 * DAYS_PER_YEAR,\n",
    "                2.30417297573763929e-05 * DAYS_PER_YEAR],\n",
    "            2.85885980666130812e-04 * SOLAR_MASS),\n",
    "\n",
    "        'uranus': ([1.28943695621391310e+01,\n",
    "            -1.51111514016986312e+01,\n",
    "            -2.23307578892655734e-01],\n",
    "            [2.96460137564761618e-03 * DAYS_PER_YEAR,\n",
    "                2.37847173959480950e-03 * DAYS_PER_YEAR,\n",
    "                -2.96589568540237556e-05 * DAYS_PER_YEAR],\n",
    "            4.36624404335156298e-05 * SOLAR_MASS),\n",
    "\n",
    "        'neptune': ([1.53796971148509165e+01,\n",
    "            -2.59193146099879641e+01,\n",
    "            1.79258772950371181e-01],\n",
    "            [2.68067772490389322e-03 * DAYS_PER_YEAR,\n",
    "                1.62824170038242295e-03 * DAYS_PER_YEAR,\n",
    "                -9.51592254519715870e-05 * DAYS_PER_YEAR],\n",
    "            5.15138902046611451e-05 * SOLAR_MASS) \n",
    "        }\n",
    "\n",
    "\n",
    "def advance(dt, n, bodies, pairs):\n",
    "\n",
    "    for i in range(n):\n",
    "        for (([x1, y1, z1], v1, m1),\n",
    "                ([x2, y2, z2], v2, m2)) in pairs:\n",
    "            dx = x1 - x2\n",
    "            dy = y1 - y2\n",
    "            dz = z1 - z2\n",
    "            mag = dt * ((dx * dx + dy * dy + dz * dz) ** (-1.5))\n",
    "            b1m = m1 * mag\n",
    "            b2m = m2 * mag\n",
    "            v1[0] -= dx * b2m\n",
    "            v1[1] -= dy * b2m\n",
    "            v1[2] -= dz * b2m\n",
    "            v2[0] += dx * b1m\n",
    "            v2[1] += dy * b1m\n",
    "            v2[2] += dz * b1m\n",
    "        for (r, [vx, vy, vz], m) in bodies:\n",
    "            r[0] += dt * vx\n",
    "            r[1] += dt * vy\n",
    "            r[2] += dt * vz\n",
    "\n",
    "\n",
    "def report_energy(bodies, pairs):\n",
    "\n",
    "    e = 0.0\n",
    "\n",
    "    for (((x1, y1, z1), v1, m1),\n",
    "            ((x2, y2, z2), v2, m2)) in pairs:\n",
    "        dx = x1 - x2\n",
    "        dy = y1 - y2\n",
    "        dz = z1 - z2\n",
    "        e -= (m1 * m2) / ((dx * dx + dy * dy + dz * dz) ** 0.5)\n",
    "    for (r, [vx, vy, vz], m) in bodies:\n",
    "        e += m * (vx * vx + vy * vy + vz * vz) / 2.\n",
    "    print(\"%.9f\" % e)\n",
    "\n",
    "def offset_momentum(ref, bodies):\n",
    "\n",
    "    px = py = pz = 0.0\n",
    "\n",
    "    for (r, [vx, vy, vz], m) in bodies:\n",
    "        px -= vx * m\n",
    "        py -= vy * m\n",
    "        pz -= vz * m\n",
    "    (r, v, m) = ref\n",
    "    v[0] = px / m\n",
    "    v[1] = py / m\n",
    "    v[2] = pz / m\n",
    "\n",
    "def main(n, bodies=BODIES, ref='sun'):\n",
    "    system = list(bodies.values())\n",
    "    pairs = combinations(system)\n",
    "    offset_momentum(bodies[ref], system)\n",
    "    report_energy(system, pairs)\n",
    "    advance(0.01, n, system, pairs)\n",
    "    report_energy(system, pairs)\n",
    "\n",
    "if __name__ == '__main__':\n",
    "    %timeit main(int(50000), bodies=BODIES, ref='sun')"
   ]
  },
  {
   "cell_type": "code",
   "execution_count": 12,
   "metadata": {
    "collapsed": true
   },
   "outputs": [],
   "source": [
    "import nbody"
   ]
  },
  {
   "cell_type": "code",
   "execution_count": 13,
   "metadata": {
    "collapsed": false
   },
   "outputs": [
    {
     "name": "stdout",
     "output_type": "stream",
     "text": [
      "-0.169146771\n",
      "-0.169149947\n",
      "-0.169071064\n",
      "-0.169072487\n",
      "-0.169150511\n",
      "-0.169169237\n",
      "-0.169223879\n",
      "-0.169253735\n",
      "1 loops, best of 3: 403 ms per loop\n"
     ]
    }
   ],
   "source": [
    "%timeit nbody.main(int(50000), bodies=BODIES, ref='sun')"
   ]
  },
  {
   "cell_type": "code",
   "execution_count": null,
   "metadata": {
    "collapsed": true
   },
   "outputs": [],
   "source": []
  }
 ],
 "metadata": {
  "kernelspec": {
   "display_name": "Python 3",
   "language": "python",
   "name": "python3"
  },
  "language_info": {
   "codemirror_mode": {
    "name": "ipython",
    "version": 3
   },
   "file_extension": ".py",
   "mimetype": "text/x-python",
   "name": "python",
   "nbconvert_exporter": "python",
   "pygments_lexer": "ipython3",
   "version": "3.4.1"
  }
 },
 "nbformat": 4,
 "nbformat_minor": 0
}
